{
 "cells": [
  {
   "cell_type": "code",
   "execution_count": 1,
   "metadata": {},
   "outputs": [],
   "source": [
    "import docx\n",
    "import os\n",
    "import pandas as pd\n",
    "import numpy as ny\n",
    "import glob"
   ]
  },
  {
   "cell_type": "code",
   "execution_count": 3,
   "metadata": {},
   "outputs": [
    {
     "name": "stdout",
     "output_type": "stream",
     "text": [
      "d:\\个人笔记\\Coding\n"
     ]
    }
   ],
   "source": [
    "print(os.getcwd())\n",
    "path_wd = r'C:\\Users\\ganpc\\Desktop'\n",
    "pattern = \"*养老金产品*2023年第1季度报告*.doc\""
   ]
  },
  {
   "cell_type": "code",
   "execution_count": 24,
   "metadata": {},
   "outputs": [],
   "source": [
    "word_files = glob.glob(os.path.join(path_wd, pattern))"
   ]
  },
  {
   "cell_type": "code",
   "execution_count": 28,
   "metadata": {},
   "outputs": [
    {
     "data": {
      "text/plain": [
       "['C:\\\\Users\\\\ganpc\\\\Desktop\\\\工2222银瑞信年年惠信托产品型养老金产品2期企业年金养老金产品管理2023年第1季度报告 - 副本.doc',\n",
       " 'C:\\\\Users\\\\ganpc\\\\Desktop\\\\工银瑞信年年惠信托产品型养老金产品2期企业年金养老金产品管理2023年第1季度报告.doc']"
      ]
     },
     "execution_count": 28,
     "metadata": {},
     "output_type": "execute_result"
    }
   ],
   "source": [
    "len(word_files)\n",
    "word_files"
   ]
  },
  {
   "cell_type": "code",
   "execution_count": 23,
   "metadata": {},
   "outputs": [],
   "source": [
    "def get_table_df(f):\n",
    "    doc = docx.Document(f)\n",
    "    df_tables = []\n",
    "    for tb in doc.tables:\n",
    "        df = pd.DataFrame([[cell.text for cell in row.cells] for row in tb.rows])\n",
    "        df_tables.append(df)\n",
    "    df_fund = df_tables[1]\n",
    "    df_fund.columns = df_fund.iloc[0]\n",
    "    df_fund = df_fund.drop([0,1] ,axis=0).drop(df_fund.columns[0:7], axis=1)\n",
    "    df_fund.insert(0,'产品代码',[df_tables[0].iloc[1,0]]*df_fund.shape[0]) \n",
    "    df_fund.insert(1,'产品名称',[df_tables[0].iloc[0,0]]*df_fund.shape[0])\n",
    "    return  df_fund"
   ]
  },
  {
   "cell_type": "code",
   "execution_count": 38,
   "metadata": {},
   "outputs": [],
   "source": [
    "for f in word_files:\n",
    "    df_list=[]\n",
    "    df_doc = get_table_df(f)\n",
    "    df_list.append(df_doc)\n",
    "    df_all = pd.concat(df_list, axis=1)"
   ]
  },
  {
   "cell_type": "code",
   "execution_count": 15,
   "metadata": {},
   "outputs": [],
   "source": [
    "doc = docx.Document(word_files[0])\n",
    "df_table = []\n",
    "for pf in doc.tables:\n",
    "    df = pd.DataFrame([[cell.text for cell in row.cells] for row in pf.rows])\n",
    "    df_table.append(df)"
   ]
  },
  {
   "cell_type": "code",
   "execution_count": 22,
   "metadata": {},
   "outputs": [
    {
     "data": {
      "text/html": [
       "<div>\n",
       "<style scoped>\n",
       "    .dataframe tbody tr th:only-of-type {\n",
       "        vertical-align: middle;\n",
       "    }\n",
       "\n",
       "    .dataframe tbody tr th {\n",
       "        vertical-align: top;\n",
       "    }\n",
       "\n",
       "    .dataframe thead th {\n",
       "        text-align: right;\n",
       "    }\n",
       "</style>\n",
       "<table border=\"1\" class=\"dataframe\">\n",
       "  <thead>\n",
       "    <tr style=\"text-align: right;\">\n",
       "      <th></th>\n",
       "      <th>0</th>\n",
       "      <th>1</th>\n",
       "      <th>2</th>\n",
       "      <th>3</th>\n",
       "      <th>4</th>\n",
       "      <th>5</th>\n",
       "      <th>6</th>\n",
       "      <th>7</th>\n",
       "      <th>8</th>\n",
       "      <th>9</th>\n",
       "    </tr>\n",
       "  </thead>\n",
       "  <tbody>\n",
       "    <tr>\n",
       "      <th>0</th>\n",
       "      <td>产品资产净值（元）</td>\n",
       "      <td>产品资产净值（元）</td>\n",
       "      <td>资产份额（份）</td>\n",
       "      <td>资产份额（份）</td>\n",
       "      <td>单位净值（元）</td>\n",
       "      <td>单位净值（元）</td>\n",
       "      <td>报告期内投资收益（元）</td>\n",
       "      <td>报告期内投资收益率（%）</td>\n",
       "      <td>本年以来投资收益率（%）</td>\n",
       "      <td>产品成立以来累计收益率(%)</td>\n",
       "    </tr>\n",
       "    <tr>\n",
       "      <th>1</th>\n",
       "      <td>期初</td>\n",
       "      <td>期末</td>\n",
       "      <td>期初</td>\n",
       "      <td>期末</td>\n",
       "      <td>期初</td>\n",
       "      <td>期末</td>\n",
       "      <td>报告期内投资收益（元）</td>\n",
       "      <td>报告期内投资收益率（%）</td>\n",
       "      <td>本年以来投资收益率（%）</td>\n",
       "      <td>产品成立以来累计收益率(%)</td>\n",
       "    </tr>\n",
       "    <tr>\n",
       "      <th>2</th>\n",
       "      <td>97,452,600.33</td>\n",
       "      <td>96,384,042.39</td>\n",
       "      <td>96,125,815.50</td>\n",
       "      <td>95,019,190.57</td>\n",
       "      <td>1.0138</td>\n",
       "      <td>1.0144</td>\n",
       "      <td>1,187,623.01</td>\n",
       "      <td>1.24</td>\n",
       "      <td>1.24</td>\n",
       "      <td>19.94</td>\n",
       "    </tr>\n",
       "  </tbody>\n",
       "</table>\n",
       "</div>"
      ],
      "text/plain": [
       "               0              1              2              3         4  \\\n",
       "0     产品资产净值（元）      产品资产净值（元）        资产份额（份）        资产份额（份）   单位净值（元）    \n",
       "1            期初             期末             期初             期末        期初    \n",
       "2  97,452,600.33  96,384,042.39  96,125,815.50  95,019,190.57    1.0138   \n",
       "\n",
       "          5             6              7              8                9  \n",
       "0  单位净值（元）   报告期内投资收益（元）   报告期内投资收益率（%）   本年以来投资收益率（%）   产品成立以来累计收益率(%)   \n",
       "1       期末   报告期内投资收益（元）   报告期内投资收益率（%）   本年以来投资收益率（%）   产品成立以来累计收益率(%)   \n",
       "2    1.0144  1,187,623.01           1.24           1.24            19.94  "
      ]
     },
     "execution_count": 22,
     "metadata": {},
     "output_type": "execute_result"
    }
   ],
   "source": [
    "df_table[1]"
   ]
  }
 ],
 "metadata": {
  "kernelspec": {
   "display_name": "Python 3",
   "language": "python",
   "name": "python3"
  },
  "language_info": {
   "codemirror_mode": {
    "name": "ipython",
    "version": 3
   },
   "file_extension": ".py",
   "mimetype": "text/x-python",
   "name": "python",
   "nbconvert_exporter": "python",
   "pygments_lexer": "ipython3",
   "version": "3.10.10"
  },
  "orig_nbformat": 4
 },
 "nbformat": 4,
 "nbformat_minor": 2
}
