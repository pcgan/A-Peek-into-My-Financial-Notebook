{
 "cells": [
  {
   "attachments": {},
   "cell_type": "markdown",
   "metadata": {},
   "source": [
    "# 基于“货币-信用”状态的BL资产配置模型\n",
    "\n",
    "用模拟组合，在无卖空条件下，分别实现马科维茨模型的配置结果，和包含“货币-信用”观点的Black-Litterman模型配置结果。\n",
    "## 设定组合资产\n",
    "价值股:国证价值指数  399371.SZ\n",
    "成长股:国证成长指数  399370.SZ\n",
    "无风险资产：10Y国债收益率\n",
    "## 均值方差模型下的市场最大化夏普配置结果\n",
    "## 市场均衡收益率下的BL模型配置结果\n"
   ]
  },
  {
   "cell_type": "code",
   "execution_count": 35,
   "metadata": {},
   "outputs": [],
   "source": [
    "### 数据库导入\n",
    "from iFinDPy import *\n",
    "from datetime import datetime\n",
    "import pandas as pd\n",
    "import time as _time\n",
    "import numpy as np\n",
    "import matplotlib.pyplot as plt\n",
    "from scipy.optimize import minimize\n"
   ]
  },
  {
   "cell_type": "code",
   "execution_count": 2,
   "metadata": {},
   "outputs": [
    {
     "name": "stdout",
     "output_type": "stream",
     "text": [
      "0\n",
      "登录成功\n"
     ]
    }
   ],
   "source": [
    "### 同花顺登陆\n",
    "user_name,password = [\"hacb201\",\"976306\"]\n",
    "def thslogindemo(us,psw):\n",
    "    # 输入用户的帐号和密码\n",
    "    thsLogin = THS_iFinDLogin(us,psw)\n",
    "    print(thsLogin)\n",
    "    if thsLogin != 0:\n",
    "        print('登录失败')\n",
    "    else:\n",
    "        print('登录成功')\n",
    "\n",
    "thslogindemo(user_name,password)"
   ]
  },
  {
   "cell_type": "code",
   "execution_count": 6,
   "metadata": {},
   "outputs": [
    {
     "name": "stdout",
     "output_type": "stream",
     "text": [
      "         time    thscode  ths_close_price_index  ths_chg_ratio_index\n",
      "0  2018-03-16  399370.SZ                4256.07            -1.160578 0\n"
     ]
    }
   ],
   "source": [
    "### 抓取数据及数据清洗\n",
    "index_list = ['399370.SZ,399371.SZ']\n",
    "data_js = THS_DS(index_list,'ths_close_price_index;ths_chg_ratio_index',';','block:history','2012-01-01','2022-12-31')\n",
    "data_df = data_js.data\n",
    "print(data_df.head(1),sum(data_df.ths_chg_ratio_index.isna()))\n"
   ]
  },
  {
   "cell_type": "code",
   "execution_count": 18,
   "metadata": {},
   "outputs": [],
   "source": [
    "### 定义无风险收益率和tau\n",
    "\n",
    "Goverment_bond_YTM_10Y = 0.0283\n",
    "tau = 0.025"
   ]
  },
  {
   "cell_type": "code",
   "execution_count": 14,
   "metadata": {},
   "outputs": [
    {
     "name": "stdout",
     "output_type": "stream",
     "text": [
      "thscode\n",
      "399370.SZ    0.017685\n",
      "399371.SZ   -0.007463\n",
      "dtype: float64 thscode    399370.SZ  399371.SZ\n",
      "thscode                        \n",
      "399370.SZ   2.297223   1.379362\n",
      "399371.SZ   1.379362   1.454723\n"
     ]
    }
   ],
   "source": [
    "### 计算历史协方差矩阵、收益率均值向量\n",
    "data_df_pivot = data_df.pivot(index='time',columns='thscode', values='ths_chg_ratio_index')\n",
    "#print(data_df_pivot.tail(2))\n",
    "Pi = data_df_pivot.mean()\n",
    "sigma = data_df_pivot.cov()\n",
    "print(Pi,sigma)"
   ]
  },
  {
   "cell_type": "code",
   "execution_count": 39,
   "metadata": {},
   "outputs": [
    {
     "name": "stdout",
     "output_type": "stream",
     "text": [
      "[1. 0.] 0.017685497786464183 1.5156591422772292\n"
     ]
    },
    {
     "ename": "TypeError",
     "evalue": "port_volatility() missing 1 required positional argument: 'returns'",
     "output_type": "error",
     "traceback": [
      "\u001b[1;31m---------------------------------------------------------------------------\u001b[0m",
      "\u001b[1;31mTypeError\u001b[0m                                 Traceback (most recent call last)",
      "Cell \u001b[1;32mIn[39], line 39\u001b[0m\n\u001b[0;32m     34\u001b[0m \u001b[39mfor\u001b[39;00m tar \u001b[39min\u001b[39;00m target_returns:\n\u001b[0;32m     35\u001b[0m     constraints_for \u001b[39m=\u001b[39m (\n\u001b[0;32m     36\u001b[0m     {\u001b[39m'\u001b[39m\u001b[39mtype\u001b[39m\u001b[39m'\u001b[39m:\u001b[39m'\u001b[39m\u001b[39meq\u001b[39m\u001b[39m'\u001b[39m,\u001b[39m'\u001b[39m\u001b[39mfun\u001b[39m\u001b[39m'\u001b[39m: \u001b[39mlambda\u001b[39;00m x: np\u001b[39m.\u001b[39msum(x)\u001b[39m-\u001b[39m\u001b[39m1\u001b[39m}, \u001b[39m#eq表示等式约束，表示等于0\u001b[39;00m\n\u001b[0;32m     37\u001b[0m     {\u001b[39m'\u001b[39m\u001b[39mtype\u001b[39m\u001b[39m'\u001b[39m:\u001b[39m'\u001b[39m\u001b[39meq\u001b[39m\u001b[39m'\u001b[39m,\u001b[39m'\u001b[39m\u001b[39mfun\u001b[39m\u001b[39m'\u001b[39m:\u001b[39mlambda\u001b[39;00m x: port_return(x, data_df_pivot)\u001b[39m-\u001b[39mx} \u001b[39m#约束组合收益率等于tar。这样就可以得到在不同目标收益率下的最小方差\u001b[39;00m\n\u001b[0;32m     38\u001b[0m     )\n\u001b[1;32m---> 39\u001b[0m     result_for \u001b[39m=\u001b[39m minimize(port_volatility,initial_weitghts,method\u001b[39m=\u001b[39;49m\u001b[39m'\u001b[39;49m\u001b[39mSLSQP\u001b[39;49m\u001b[39m'\u001b[39;49m,bounds\u001b[39m=\u001b[39;49mbounds,\n\u001b[0;32m     40\u001b[0m                           constraints\u001b[39m=\u001b[39;49mconstraints_for)\n\u001b[0;32m     41\u001b[0m     target_volatility\u001b[39m.\u001b[39mappend(result_for\u001b[39m.\u001b[39mfun)\n\u001b[0;32m     42\u001b[0m target_volatility \u001b[39m=\u001b[39m np\u001b[39m.\u001b[39marray(target_volatility)\n",
      "File \u001b[1;32me:\\Program Files\\Python310\\lib\\site-packages\\scipy\\optimize\\_minimize.py:705\u001b[0m, in \u001b[0;36mminimize\u001b[1;34m(fun, x0, args, method, jac, hess, hessp, bounds, constraints, tol, callback, options)\u001b[0m\n\u001b[0;32m    702\u001b[0m     res \u001b[39m=\u001b[39m _minimize_cobyla(fun, x0, args, constraints, callback\u001b[39m=\u001b[39mcallback,\n\u001b[0;32m    703\u001b[0m                             \u001b[39m*\u001b[39m\u001b[39m*\u001b[39moptions)\n\u001b[0;32m    704\u001b[0m \u001b[39melif\u001b[39;00m meth \u001b[39m==\u001b[39m \u001b[39m'\u001b[39m\u001b[39mslsqp\u001b[39m\u001b[39m'\u001b[39m:\n\u001b[1;32m--> 705\u001b[0m     res \u001b[39m=\u001b[39m _minimize_slsqp(fun, x0, args, jac, bounds,\n\u001b[0;32m    706\u001b[0m                           constraints, callback\u001b[39m=\u001b[39mcallback, \u001b[39m*\u001b[39m\u001b[39m*\u001b[39moptions)\n\u001b[0;32m    707\u001b[0m \u001b[39melif\u001b[39;00m meth \u001b[39m==\u001b[39m \u001b[39m'\u001b[39m\u001b[39mtrust-constr\u001b[39m\u001b[39m'\u001b[39m:\n\u001b[0;32m    708\u001b[0m     res \u001b[39m=\u001b[39m _minimize_trustregion_constr(fun, x0, args, jac, hess, hessp,\n\u001b[0;32m    709\u001b[0m                                        bounds, constraints,\n\u001b[0;32m    710\u001b[0m                                        callback\u001b[39m=\u001b[39mcallback, \u001b[39m*\u001b[39m\u001b[39m*\u001b[39moptions)\n",
      "File \u001b[1;32me:\\Program Files\\Python310\\lib\\site-packages\\scipy\\optimize\\_slsqp_py.py:374\u001b[0m, in \u001b[0;36m_minimize_slsqp\u001b[1;34m(func, x0, args, jac, bounds, constraints, maxiter, ftol, iprint, disp, eps, callback, finite_diff_rel_step, **unknown_options)\u001b[0m\n\u001b[0;32m    371\u001b[0m     xu[infbnd[:, \u001b[39m1\u001b[39m]] \u001b[39m=\u001b[39m np\u001b[39m.\u001b[39mnan\n\u001b[0;32m    373\u001b[0m \u001b[39m# ScalarFunction provides function and gradient evaluation\u001b[39;00m\n\u001b[1;32m--> 374\u001b[0m sf \u001b[39m=\u001b[39m _prepare_scalar_function(func, x, jac\u001b[39m=\u001b[39;49mjac, args\u001b[39m=\u001b[39;49margs, epsilon\u001b[39m=\u001b[39;49meps,\n\u001b[0;32m    375\u001b[0m                               finite_diff_rel_step\u001b[39m=\u001b[39;49mfinite_diff_rel_step,\n\u001b[0;32m    376\u001b[0m                               bounds\u001b[39m=\u001b[39;49mnew_bounds)\n\u001b[0;32m    377\u001b[0m \u001b[39m# gh11403 SLSQP sometimes exceeds bounds by 1 or 2 ULP, make sure this\u001b[39;00m\n\u001b[0;32m    378\u001b[0m \u001b[39m# doesn't get sent to the func/grad evaluator.\u001b[39;00m\n\u001b[0;32m    379\u001b[0m wrapped_fun \u001b[39m=\u001b[39m _clip_x_for_func(sf\u001b[39m.\u001b[39mfun, new_bounds)\n",
      "File \u001b[1;32me:\\Program Files\\Python310\\lib\\site-packages\\scipy\\optimize\\_optimize.py:332\u001b[0m, in \u001b[0;36m_prepare_scalar_function\u001b[1;34m(fun, x0, jac, args, bounds, epsilon, finite_diff_rel_step, hess)\u001b[0m\n\u001b[0;32m    328\u001b[0m     bounds \u001b[39m=\u001b[39m (\u001b[39m-\u001b[39mnp\u001b[39m.\u001b[39minf, np\u001b[39m.\u001b[39minf)\n\u001b[0;32m    330\u001b[0m \u001b[39m# ScalarFunction caches. Reuse of fun(x) during grad\u001b[39;00m\n\u001b[0;32m    331\u001b[0m \u001b[39m# calculation reduces overall function evaluations.\u001b[39;00m\n\u001b[1;32m--> 332\u001b[0m sf \u001b[39m=\u001b[39m ScalarFunction(fun, x0, args, grad, hess,\n\u001b[0;32m    333\u001b[0m                     finite_diff_rel_step, bounds, epsilon\u001b[39m=\u001b[39;49mepsilon)\n\u001b[0;32m    335\u001b[0m \u001b[39mreturn\u001b[39;00m sf\n",
      "File \u001b[1;32me:\\Program Files\\Python310\\lib\\site-packages\\scipy\\optimize\\_differentiable_functions.py:158\u001b[0m, in \u001b[0;36mScalarFunction.__init__\u001b[1;34m(self, fun, x0, args, grad, hess, finite_diff_rel_step, finite_diff_bounds, epsilon)\u001b[0m\n\u001b[0;32m    155\u001b[0m     \u001b[39mself\u001b[39m\u001b[39m.\u001b[39mf \u001b[39m=\u001b[39m fun_wrapped(\u001b[39mself\u001b[39m\u001b[39m.\u001b[39mx)\n\u001b[0;32m    157\u001b[0m \u001b[39mself\u001b[39m\u001b[39m.\u001b[39m_update_fun_impl \u001b[39m=\u001b[39m update_fun\n\u001b[1;32m--> 158\u001b[0m \u001b[39mself\u001b[39;49m\u001b[39m.\u001b[39;49m_update_fun()\n\u001b[0;32m    160\u001b[0m \u001b[39m# Gradient evaluation\u001b[39;00m\n\u001b[0;32m    161\u001b[0m \u001b[39mif\u001b[39;00m callable(grad):\n",
      "File \u001b[1;32me:\\Program Files\\Python310\\lib\\site-packages\\scipy\\optimize\\_differentiable_functions.py:251\u001b[0m, in \u001b[0;36mScalarFunction._update_fun\u001b[1;34m(self)\u001b[0m\n\u001b[0;32m    249\u001b[0m \u001b[39mdef\u001b[39;00m \u001b[39m_update_fun\u001b[39m(\u001b[39mself\u001b[39m):\n\u001b[0;32m    250\u001b[0m     \u001b[39mif\u001b[39;00m \u001b[39mnot\u001b[39;00m \u001b[39mself\u001b[39m\u001b[39m.\u001b[39mf_updated:\n\u001b[1;32m--> 251\u001b[0m         \u001b[39mself\u001b[39;49m\u001b[39m.\u001b[39;49m_update_fun_impl()\n\u001b[0;32m    252\u001b[0m         \u001b[39mself\u001b[39m\u001b[39m.\u001b[39mf_updated \u001b[39m=\u001b[39m \u001b[39mTrue\u001b[39;00m\n",
      "File \u001b[1;32me:\\Program Files\\Python310\\lib\\site-packages\\scipy\\optimize\\_differentiable_functions.py:155\u001b[0m, in \u001b[0;36mScalarFunction.__init__.<locals>.update_fun\u001b[1;34m()\u001b[0m\n\u001b[0;32m    154\u001b[0m \u001b[39mdef\u001b[39;00m \u001b[39mupdate_fun\u001b[39m():\n\u001b[1;32m--> 155\u001b[0m     \u001b[39mself\u001b[39m\u001b[39m.\u001b[39mf \u001b[39m=\u001b[39m fun_wrapped(\u001b[39mself\u001b[39;49m\u001b[39m.\u001b[39;49mx)\n",
      "File \u001b[1;32me:\\Program Files\\Python310\\lib\\site-packages\\scipy\\optimize\\_differentiable_functions.py:137\u001b[0m, in \u001b[0;36mScalarFunction.__init__.<locals>.fun_wrapped\u001b[1;34m(x)\u001b[0m\n\u001b[0;32m    133\u001b[0m \u001b[39mself\u001b[39m\u001b[39m.\u001b[39mnfev \u001b[39m+\u001b[39m\u001b[39m=\u001b[39m \u001b[39m1\u001b[39m\n\u001b[0;32m    134\u001b[0m \u001b[39m# Send a copy because the user may overwrite it.\u001b[39;00m\n\u001b[0;32m    135\u001b[0m \u001b[39m# Overwriting results in undefined behaviour because\u001b[39;00m\n\u001b[0;32m    136\u001b[0m \u001b[39m# fun(self.x) will change self.x, with the two no longer linked.\u001b[39;00m\n\u001b[1;32m--> 137\u001b[0m fx \u001b[39m=\u001b[39m fun(np\u001b[39m.\u001b[39;49mcopy(x), \u001b[39m*\u001b[39;49margs)\n\u001b[0;32m    138\u001b[0m \u001b[39m# Make sure the function returns a true scalar\u001b[39;00m\n\u001b[0;32m    139\u001b[0m \u001b[39mif\u001b[39;00m \u001b[39mnot\u001b[39;00m np\u001b[39m.\u001b[39misscalar(fx):\n",
      "\u001b[1;31mTypeError\u001b[0m: port_volatility() missing 1 required positional argument: 'returns'"
     ]
    },
    {
     "data": {
      "image/png": "[encoded data removed]",
      "text/plain": [
       "<Figure size 800x400 with 1 Axes>"
      ]
     },
     "metadata": {},
     "output_type": "display_data"
    }
   ],
   "source": [
    "### 计算均值-方差模型得到最大夏普的市场权重\n",
    "# 定义组合收益率和方差计算\n",
    "def port_return(weights, returns):\n",
    "    return np.sum(weights * returns.mean(axis = 0))\n",
    "\n",
    "def port_volatility(weights, returns):\n",
    "    return np.sqrt(np.dot(weights.T,np.dot(returns.cov(), weights)))\n",
    "\n",
    "# 定义目标函数\n",
    "def sharp_ratio(weights, returns, risk_free_date):\n",
    "    portfolio_return = np.sum(weights * returns.mean(axis = 0))\n",
    "    portfolio_volatility = np.sqrt(np.dot(weights.T,np.dot(returns.cov(), weights)))\n",
    "    sharp_ratio = (portfolio_return - risk_free_date) / portfolio_volatility\n",
    "    return -sharp_ratio\n",
    "# 定义最优化函数（拉格朗日乘子法），计算最大夏普\n",
    "initial_weitghts = np.ones(len(data_df_pivot.columns),)/len(data_df_pivot.columns)\n",
    "bounds = [(0,1)] * len(data_df_pivot.columns)\n",
    "constraints = (\n",
    "    {'type':'eq','fun': lambda x: np.sum(x)-1}, #eq表示等式约束，表示等于0\n",
    "    {'type':'ineq','fun':lambda x:x} #ineq表示不等式约束，表示大于等0，对应禁止卖空\n",
    ")\n",
    "# 求解权重\n",
    "result = minimize(sharp_ratio, initial_weitghts,args=(data_df_pivot,Goverment_bond_YTM_10Y), method='SLSQP',bounds=bounds, constraints=constraints)\n",
    "print(result.x, port_return(result.x, data_df_pivot), port_volatility(result.x, data_df_pivot))\n",
    "# 绘制有效前沿曲线\n",
    "plt.figure(figsize=(8,4))\n",
    "plt.scatter(port_volatility(result.x, data_df_pivot),port_return(result.x, data_df_pivot), marker='*', color='r', s=500,\n",
    "            label='Maximum Sharp ratio')\n",
    "\n",
    "target_returns = np.linspace(0.0001, port_return(result.x, data_df_pivot), 1)\n",
    "target_volatility = []\n",
    "\n",
    "for tar in target_returns:\n",
    "    constraints_for = (\n",
    "    {'type':'eq','fun': lambda x: np.sum(x)-1}, #eq表示等式约束，表示等于0\n",
    "    {'type':'eq','fun':lambda x: port_return(x, data_df_pivot)-x} #约束组合收益率等于tar。这样就可以得到在不同目标收益率下的最小方差\n",
    "    )\n",
    "    result_for = minimize(port_volatility,initial_weitghts,method='SLSQP',\n",
    "                          bounds=bounds,\n",
    "                          args=(data_df_pivot,Goverment_bond_YTM_10Y),\n",
    "                          constraints=constraints_for)\n",
    "    target_volatility.append(result_for.fun)\n",
    "target_volatility = np.array(target_volatility)\n",
    "plt.scatter(target_volatility,target_returns,c=(target_returns-Goverment_bond_YTM_10Y)/target_volatility, s=50,\n",
    "            label = 'Efficient frontier') # c: 散点的颜色，可以是一个标量或者一个数组，这里是target_returns/target_vars，表示每个散点的颜色由其夏普比率决定\n",
    "plt.grid(True)\n",
    "plt.xlabel('Expected variance')\n",
    "plt.ylabel('Expected return')\n",
    "plt.legend(loc='best')\n",
    "plt.show()"
   ]
  },
  {
   "attachments": {},
   "cell_type": "markdown",
   "metadata": {},
   "source": [
    "'''\n",
    "scipy.optimize.minimize函数的返回值，是一个OptimizeResult对象，包含了最优化过程的信息。最优化结果result有以下属性：\n",
    "\n",
    "x: 最优解\n",
    "success: 布尔值，表示是否成功找到最优解\n",
    "status: 整数，表示最优化过程的状态码\n",
    "message: 字符串，表示最优化过程的终止原因\n",
    "fun: 浮点数，表示目标函数在最优解处的值\n",
    "jac: 数组，表示目标函数在最优解处的梯度\n",
    "hess: 矩阵或者线性算子，表示目标函数在最优解处的海森矩阵或者近似\n",
    "nfev: 整数，表示目标函数被调用的次数\n",
    "njev: 整数，表示梯度被调用的次数\n",
    "nhev: 整数，表示海森矩阵被调用的次数\n",
    "nit: 整数，表示迭代次数\n",
    "'''"
   ]
  },
  {
   "cell_type": "code",
   "execution_count": 31,
   "metadata": {},
   "outputs": [
    {
     "data": {
      "text/plain": [
       "array([1., 0.])"
      ]
     },
     "execution_count": 31,
     "metadata": {},
     "output_type": "execute_result"
    }
   ],
   "source": []
  },
  {
   "cell_type": "code",
   "execution_count": null,
   "metadata": {},
   "outputs": [],
   "source": [
    "### 计算先验分布：市场均衡权重、均衡收益率、风险厌恶系数、假定τ\n",
    "\n",
    "\n",
    "\n"
   ]
  },
  {
   "cell_type": "code",
   "execution_count": null,
   "metadata": {},
   "outputs": [],
   "source": [
    "### 设定市场观点。计算观点矩阵、观点收益率向量、观点协方差矩阵\n"
   ]
  },
  {
   "cell_type": "code",
   "execution_count": null,
   "metadata": {},
   "outputs": [],
   "source": [
    "### 计算后验分布收益率及方差\n",
    "\n"
   ]
  },
  {
   "cell_type": "code",
   "execution_count": null,
   "metadata": {},
   "outputs": [],
   "source": [
    "### 计算后验分布的资产权重"
   ]
  }
 ],
 "metadata": {
  "kernelspec": {
   "display_name": "Python 3",
   "language": "python",
   "name": "python3"
  },
  "language_info": {
   "codemirror_mode": {
    "name": "ipython",
    "version": 3
   },
   "file_extension": ".py",
   "mimetype": "text/x-python",
   "name": "python",
   "nbconvert_exporter": "python",
   "pygments_lexer": "ipython3",
   "version": "3.10.10"
  },
  "orig_nbformat": 4
 },
 "nbformat": 4,
 "nbformat_minor": 2
}
